{
 "cells": [
  {
   "cell_type": "markdown",
   "id": "6211f53d",
   "metadata": {},
   "source": [
    "# Importing Libraries"
   ]
  },
  {
   "cell_type": "code",
   "execution_count": null,
   "id": "8e8a7df7",
   "metadata": {},
   "outputs": [],
   "source": [
    "import pandas as pd \n",
    "import matplotlib.pyplot as plt\n",
    "import seaborn as sns"
   ]
  },
  {
   "cell_type": "code",
   "execution_count": null,
   "id": "a1fc7c86",
   "metadata": {},
   "outputs": [],
   "source": [
    "import warnings\n",
    "warnings.filterwarnings('ignore')"
   ]
  },
  {
   "cell_type": "code",
   "execution_count": null,
   "id": "010d8f81",
   "metadata": {},
   "outputs": [],
   "source": [
    "df = pd.read_csv(\"heart.csv\")\n",
    "df.head()"
   ]
  },
  {
   "cell_type": "code",
   "execution_count": null,
   "id": "b49dce2f",
   "metadata": {},
   "outputs": [],
   "source": [
    "df.describe()"
   ]
  },
  {
   "cell_type": "code",
   "execution_count": null,
   "id": "1b8bb1bb",
   "metadata": {},
   "outputs": [],
   "source": [
    "df.info()"
   ]
  },
  {
   "cell_type": "code",
   "execution_count": null,
   "id": "f8bd4c34",
   "metadata": {},
   "outputs": [],
   "source": [
    "df.dtypes"
   ]
  },
  {
   "cell_type": "code",
   "execution_count": null,
   "id": "6ed9e262",
   "metadata": {},
   "outputs": [],
   "source": [
    "df.shape\n",
    "print(\"Number of Rows\" , df.shape[0])\n",
    "print(\"Number of Columns\" , df.shape[1])"
   ]
  },
  {
   "cell_type": "markdown",
   "id": "115b0dd3",
   "metadata": {},
   "source": [
    "# Handling null values"
   ]
  },
  {
   "cell_type": "code",
   "execution_count": null,
   "id": "9570aa38",
   "metadata": {},
   "outputs": [],
   "source": [
    "df.isnull().sum()"
   ]
  },
  {
   "cell_type": "code",
   "execution_count": null,
   "id": "df8a39dc",
   "metadata": {},
   "outputs": [],
   "source": [
    "df.dup = df.duplicated().any()\n",
    "print(df.dup)"
   ]
  },
  {
   "cell_type": "code",
   "execution_count": null,
   "id": "9b9e05bd",
   "metadata": {},
   "outputs": [],
   "source": [
    "df = df.drop_duplicates()"
   ]
  },
  {
   "cell_type": "code",
   "execution_count": null,
   "id": "c6e000b8",
   "metadata": {},
   "outputs": [],
   "source": [
    "df.shape"
   ]
  },
  {
   "cell_type": "markdown",
   "id": "14314383",
   "metadata": {},
   "source": [
    "# Data processing"
   ]
  },
  {
   "cell_type": "code",
   "execution_count": null,
   "id": "a560e5f4",
   "metadata": {},
   "outputs": [],
   "source": [
    "cat_val = []\n",
    "con_val = []\n",
    "\n",
    "for column in df.columns:\n",
    "    if df[column].nunique()<=10:\n",
    "        cat_val.append(column)\n",
    "    else:\n",
    "        con_val.append(column)\n",
    "    "
   ]
  },
  {
   "cell_type": "code",
   "execution_count": null,
   "id": "73be2107",
   "metadata": {},
   "outputs": [],
   "source": [
    "cat_val\n"
   ]
  },
  {
   "cell_type": "code",
   "execution_count": null,
   "id": "6669446e",
   "metadata": {},
   "outputs": [],
   "source": [
    "con_val"
   ]
  },
  {
   "cell_type": "markdown",
   "id": "5a03fb9a",
   "metadata": {},
   "source": [
    "# Encoding Categorical data"
   ]
  },
  {
   "cell_type": "code",
   "execution_count": null,
   "id": "e028751a",
   "metadata": {},
   "outputs": [],
   "source": [
    "cat_val"
   ]
  },
  {
   "cell_type": "code",
   "execution_count": null,
   "id": "8230067e",
   "metadata": {},
   "outputs": [],
   "source": [
    "df[\"cp\"].unique()"
   ]
  },
  {
   "cell_type": "code",
   "execution_count": null,
   "id": "afb56341",
   "metadata": {},
   "outputs": [],
   "source": [
    "cat_val.remove('sex')\n",
    "cat_val.remove('target')"
   ]
  },
  {
   "cell_type": "code",
   "execution_count": null,
   "id": "a7917f96",
   "metadata": {},
   "outputs": [],
   "source": [
    "df = pd.get_dummies(df,columns= cat_val,drop_first= True)"
   ]
  },
  {
   "cell_type": "code",
   "execution_count": null,
   "id": "15c6f7f3",
   "metadata": {},
   "outputs": [],
   "source": [
    "df.head()"
   ]
  },
  {
   "cell_type": "markdown",
   "id": "2473006c",
   "metadata": {},
   "source": [
    "# Feature Scaling"
   ]
  },
  {
   "cell_type": "code",
   "execution_count": null,
   "id": "f84aa41f",
   "metadata": {},
   "outputs": [],
   "source": [
    "df.head()"
   ]
  },
  {
   "cell_type": "code",
   "execution_count": null,
   "id": "01cfa2de",
   "metadata": {},
   "outputs": [],
   "source": [
    "from sklearn.preprocessing import StandardScaler"
   ]
  },
  {
   "cell_type": "code",
   "execution_count": null,
   "id": "1e16b857",
   "metadata": {},
   "outputs": [],
   "source": [
    "st= StandardScaler()\n",
    "df[con_val]=st.fit_transform(df[con_val])"
   ]
  },
  {
   "cell_type": "code",
   "execution_count": null,
   "id": "1ef27d63",
   "metadata": {},
   "outputs": [],
   "source": [
    "df.head()"
   ]
  },
  {
   "cell_type": "markdown",
   "id": "db962afe",
   "metadata": {},
   "source": [
    "# Grouping"
   ]
  },
  {
   "cell_type": "code",
   "execution_count": null,
   "id": "252a7d0f",
   "metadata": {},
   "outputs": [],
   "source": [
    "df[\"sex\"]"
   ]
  },
  {
   "cell_type": "code",
   "execution_count": null,
   "id": "15a0d3ef",
   "metadata": {},
   "outputs": [],
   "source": [
    "df['sex'].unique()"
   ]
  },
  {
   "cell_type": "code",
   "execution_count": null,
   "id": "468ead73",
   "metadata": {},
   "outputs": [],
   "source": [
    "df['sex'].value_counts()"
   ]
  },
  {
   "cell_type": "code",
   "execution_count": null,
   "id": "a14a1e2e",
   "metadata": {},
   "outputs": [],
   "source": [
    "df['sex'].value_counts().plot(kind = 'bar')\n",
    "plt.xticks([0,1], [\"Male\" , \"Female\"])\n",
    "plt.show()"
   ]
  },
  {
   "cell_type": "code",
   "execution_count": null,
   "id": "15d0d3cd",
   "metadata": {},
   "outputs": [],
   "source": [
    "df.groupby('sex').mean()"
   ]
  },
  {
   "cell_type": "code",
   "execution_count": null,
   "id": "adcc6e93",
   "metadata": {},
   "outputs": [],
   "source": [
    "sns.catplot(x='sex',y='target',data=df,kind = 'bar')\n",
    "plt.show()"
   ]
  },
  {
   "cell_type": "markdown",
   "id": "d0c89ab6",
   "metadata": {},
   "source": [
    "# Data Visualisation"
   ]
  },
  {
   "cell_type": "markdown",
   "id": "24c68a75",
   "metadata": {},
   "source": [
    "# Correlation matrix"
   ]
  },
  {
   "cell_type": "code",
   "execution_count": null,
   "id": "7064cb10",
   "metadata": {},
   "outputs": [],
   "source": [
    "plt.figure(figsize = (17,6))\n",
    "sns.heatmap(df.corr(), annot = True )          "
   ]
  },
  {
   "cell_type": "markdown",
   "id": "c0cd48e7",
   "metadata": {},
   "source": [
    "# How many people have heart disease, and how many don't?"
   ]
  },
  {
   "cell_type": "code",
   "execution_count": null,
   "id": "d4433910",
   "metadata": {},
   "outputs": [],
   "source": [
    "df.columns"
   ]
  },
  {
   "cell_type": "code",
   "execution_count": null,
   "id": "c03b78a9",
   "metadata": {},
   "outputs": [],
   "source": [
    "df[\"target\"].value_counts()"
   ]
  },
  {
   "cell_type": "code",
   "execution_count": null,
   "id": "5f777b2b",
   "metadata": {},
   "outputs": [],
   "source": [
    "sns.countplot(df['target'])\n",
    "plt.title(\"Heart disease count of patients\")\n",
    "plt.show()\n"
   ]
  },
  {
   "cell_type": "markdown",
   "id": "baeaf0c0",
   "metadata": {},
   "source": [
    "# Find Count of  Male & Female in this Dataset"
   ]
  },
  {
   "cell_type": "code",
   "execution_count": null,
   "id": "3f3675e4",
   "metadata": {},
   "outputs": [],
   "source": [
    "df[\"sex\"].value_counts()"
   ]
  },
  {
   "cell_type": "code",
   "execution_count": null,
   "id": "3cb64f92",
   "metadata": {},
   "outputs": [],
   "source": [
    "sns.countplot(df[\"sex\"])\n",
    "plt.xticks([0,1], [\"Female\" , \"Male\"])\n",
    "plt.show()"
   ]
  },
  {
   "cell_type": "markdown",
   "id": "2ef359a1",
   "metadata": {},
   "source": [
    "# Find Gender Distribution According to The Target Variable"
   ]
  },
  {
   "cell_type": "code",
   "execution_count": null,
   "id": "6d21c406",
   "metadata": {},
   "outputs": [],
   "source": [
    "sns.countplot(x= \"sex\", hue = \"target\", data = df)\n",
    "plt.xticks([0,1], [\"Female\",\"Male\"])\n",
    "plt.legend(labels = [\"No Disease\", \"Disease\"])\n",
    "plt.show()"
   ]
  },
  {
   "cell_type": "markdown",
   "id": "7da4d67f",
   "metadata": {},
   "source": [
    "# Check Age Distribution In The Dataset"
   ]
  },
  {
   "cell_type": "code",
   "execution_count": null,
   "id": "775a61dc",
   "metadata": {},
   "outputs": [],
   "source": [
    "sns.distplot(df[\"age\"], bins = 20)\n",
    "plt.show()"
   ]
  },
  {
   "cell_type": "markdown",
   "id": "8dd65b54",
   "metadata": {},
   "source": [
    "# Check Chest Pain Type"
   ]
  },
  {
   "cell_type": "code",
   "execution_count": null,
   "id": "0f79285d",
   "metadata": {},
   "outputs": [],
   "source": [
    "sns.countplot(df[\"cp\"])\n",
    "plt.xticks([0,1,2,3], [\"Typical angina\", \"atypical angina\",\"non-anginal pain\",\"asymptomatic\"])\n",
    "plt.xticks(rotation = 90)\n",
    "plt.show()"
   ]
  },
  {
   "cell_type": "markdown",
   "id": "29416c74",
   "metadata": {},
   "source": [
    "# Chest Pain Distribution As Per Target Variable"
   ]
  },
  {
   "cell_type": "code",
   "execution_count": null,
   "id": "7166d535",
   "metadata": {},
   "outputs": [],
   "source": [
    "sns.countplot(x= \"cp\", hue = \"target\", data = df)\n",
    "plt.xticks([0,1,2,3], [\"Typical angina\", \"atypical angina\",\"non-anginal pain\",\"asymptomatic\"])\n",
    "plt.xticks(rotation = 90)\n",
    "plt.legend(labels = [\"No Disease\", \"Disease\"])\n",
    "plt.show()"
   ]
  },
  {
   "cell_type": "markdown",
   "id": "26e62a04",
   "metadata": {},
   "source": [
    "# Fasting Blood Sugar Distribution According To Target Variable"
   ]
  },
  {
   "cell_type": "code",
   "execution_count": null,
   "id": "95207888",
   "metadata": {},
   "outputs": [],
   "source": [
    "sns.countplot(x= \"fbs\", hue = \"target\", data = df)\n",
    "plt.legend(labels = [\"No Disease\", \"Disease\"])\n",
    "plt.show()"
   ]
  },
  {
   "cell_type": "markdown",
   "id": "135ccb95",
   "metadata": {},
   "source": [
    "# Resting Blood Pressure Distribution"
   ]
  },
  {
   "cell_type": "code",
   "execution_count": null,
   "id": "e54ff969",
   "metadata": {},
   "outputs": [],
   "source": [
    "df[\"trestbps\"].hist()\n",
    "plt.show()"
   ]
  },
  {
   "cell_type": "markdown",
   "id": "9b4487c4",
   "metadata": {},
   "source": [
    "# Resting Blood Pressure As Per Sex Column"
   ]
  },
  {
   "cell_type": "code",
   "execution_count": null,
   "id": "0b53c9f8",
   "metadata": {},
   "outputs": [],
   "source": [
    "g= sns.FacetGrid(df , hue = \"sex\", aspect  = 4)\n",
    "g.map(sns.kdeplot,'trestbps', shade = True)                \n",
    "plt.legend(labels = [\"Male\", \"Female\"])\n",
    "plt.show()"
   ]
  },
  {
   "cell_type": "markdown",
   "id": "e8451885",
   "metadata": {},
   "source": [
    "# Distribution of Serum cholesterol"
   ]
  },
  {
   "cell_type": "code",
   "execution_count": null,
   "id": "2ea2bdad",
   "metadata": {},
   "outputs": [],
   "source": [
    "df[\"chol\"].hist()\n",
    "plt.show()"
   ]
  },
  {
   "cell_type": "markdown",
   "id": "9ed13645",
   "metadata": {},
   "source": [
    "# Plot Continuous Variables"
   ]
  },
  {
   "cell_type": "code",
   "execution_count": null,
   "id": "229efe1b",
   "metadata": {},
   "outputs": [],
   "source": [
    "gender_distribution = df['sex'].value_counts(normalize=True) * 100\n",
    "gender_distribution"
   ]
  },
  {
   "cell_type": "code",
   "execution_count": null,
   "id": "30226beb",
   "metadata": {},
   "outputs": [],
   "source": [
    "plt.figure(figsize=(5, 5))\n",
    "plt.pie(gender_distribution, labels=gender_distribution.index, autopct='%1.1f%%', startangle=140, colors=['#ff9999','#66b3ff'])\n",
    "plt.axis('equal')\n",
    "plt.legend(labels = [\"Male\", \"Female\"])\n",
    "plt.title( 'Gender Distribution')\n",
    "plt.show()"
   ]
  }
 ],
 "metadata": {
  "kernelspec": {
   "display_name": "Python 3 (ipykernel)",
   "language": "python",
   "name": "python3"
  },
  "language_info": {
   "codemirror_mode": {
    "name": "ipython",
    "version": 3
   },
   "file_extension": ".py",
   "mimetype": "text/x-python",
   "name": "python",
   "nbconvert_exporter": "python",
   "pygments_lexer": "ipython3",
   "version": "3.9.12"
  }
 },
 "nbformat": 4,
 "nbformat_minor": 5
}
