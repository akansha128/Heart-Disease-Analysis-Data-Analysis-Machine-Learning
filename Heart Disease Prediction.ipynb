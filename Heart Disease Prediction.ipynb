{
 "cells": [
  {
   "cell_type": "code",
   "execution_count": null,
   "id": "a224a475",
   "metadata": {},
   "outputs": [],
   "source": [
    "import pandas as pd \n",
    "import matplotlib.pyplot as plt\n",
    "import seaborn as sns"
   ]
  },
  {
   "cell_type": "code",
   "execution_count": null,
   "id": "61ad44ed",
   "metadata": {},
   "outputs": [],
   "source": [
    "import warnings\n",
    "warnings.filterwarnings('ignore')"
   ]
  },
  {
   "cell_type": "code",
   "execution_count": null,
   "id": "a7decb24",
   "metadata": {},
   "outputs": [],
   "source": [
    "df = pd.read_csv(\"heart.csv\")\n",
    "df.head()"
   ]
  },
  {
   "cell_type": "code",
   "execution_count": null,
   "id": "dbae5c1d",
   "metadata": {},
   "outputs": [],
   "source": [
    "df.describe()"
   ]
  },
  {
   "cell_type": "code",
   "execution_count": null,
   "id": "14dbb33d",
   "metadata": {},
   "outputs": [],
   "source": [
    "df.info()"
   ]
  },
  {
   "cell_type": "code",
   "execution_count": null,
   "id": "177f6ccf",
   "metadata": {},
   "outputs": [],
   "source": [
    "df.shape\n",
    "print(\"Number of Rows\" , df.shape[0])\n",
    "print(\"Number of Columns\" , df.shape[1])"
   ]
  },
  {
   "cell_type": "markdown",
   "id": "e6e4b6a0",
   "metadata": {},
   "source": [
    "# Handling null values"
   ]
  },
  {
   "cell_type": "code",
   "execution_count": null,
   "id": "0d9d3355",
   "metadata": {},
   "outputs": [],
   "source": [
    "df.isnull().sum()"
   ]
  },
  {
   "cell_type": "code",
   "execution_count": null,
   "id": "edf30f6e",
   "metadata": {},
   "outputs": [],
   "source": [
    "df.dup = df.duplicated().any()\n",
    "print(df.dup)"
   ]
  },
  {
   "cell_type": "code",
   "execution_count": null,
   "id": "dbc82e7e",
   "metadata": {},
   "outputs": [],
   "source": [
    "df = df.drop_duplicates()"
   ]
  },
  {
   "cell_type": "code",
   "execution_count": null,
   "id": "2af3b363",
   "metadata": {},
   "outputs": [],
   "source": [
    "df.shape"
   ]
  },
  {
   "cell_type": "code",
   "execution_count": null,
   "id": "3406e826",
   "metadata": {},
   "outputs": [],
   "source": [
    "Data processing"
   ]
  },
  {
   "cell_type": "code",
   "execution_count": null,
   "id": "e053a50a",
   "metadata": {},
   "outputs": [],
   "source": [
    "cat_val = []\n",
    "con_val = []\n",
    "\n",
    "for column in df.columns:\n",
    "    if df[column].nunique()<=10:\n",
    "        cat_val.append(column)\n",
    "    else:\n",
    "        con_val.append(column)"
   ]
  },
  {
   "cell_type": "code",
   "execution_count": null,
   "id": "b1c2ee67",
   "metadata": {},
   "outputs": [],
   "source": [
    "cat_val"
   ]
  },
  {
   "cell_type": "code",
   "execution_count": null,
   "id": "edcaf32c",
   "metadata": {},
   "outputs": [],
   "source": [
    "con_val"
   ]
  },
  {
   "cell_type": "markdown",
   "id": "955bce4c",
   "metadata": {},
   "source": [
    "# Encoding Categorical data"
   ]
  },
  {
   "cell_type": "code",
   "execution_count": null,
   "id": "b426c985",
   "metadata": {},
   "outputs": [],
   "source": [
    "cat_val"
   ]
  },
  {
   "cell_type": "code",
   "execution_count": null,
   "id": "bd253943",
   "metadata": {},
   "outputs": [],
   "source": [
    "df[\"cp\"].unique()"
   ]
  },
  {
   "cell_type": "code",
   "execution_count": null,
   "id": "2038a721",
   "metadata": {},
   "outputs": [],
   "source": [
    "cat_val.remove('sex')\n",
    "cat_val.remove('target')"
   ]
  },
  {
   "cell_type": "code",
   "execution_count": null,
   "id": "1e26c372",
   "metadata": {},
   "outputs": [],
   "source": [
    "df = pd.get_dummies(df,columns= cat_val,drop_first= True)"
   ]
  },
  {
   "cell_type": "code",
   "execution_count": null,
   "id": "b5f212da",
   "metadata": {},
   "outputs": [],
   "source": [
    "df.head()"
   ]
  },
  {
   "cell_type": "markdown",
   "id": "2fd12de2",
   "metadata": {},
   "source": [
    "# Feature Scaling"
   ]
  },
  {
   "cell_type": "code",
   "execution_count": null,
   "id": "78d2b35a",
   "metadata": {},
   "outputs": [],
   "source": [
    "df.head()"
   ]
  },
  {
   "cell_type": "code",
   "execution_count": null,
   "id": "639a6402",
   "metadata": {},
   "outputs": [],
   "source": [
    "from sklearn.preprocessing import StandardScaler"
   ]
  },
  {
   "cell_type": "code",
   "execution_count": null,
   "id": "d8ac18a5",
   "metadata": {},
   "outputs": [],
   "source": [
    "st= StandardScaler()\n",
    "df[con_val]=st.fit_transform(df[con_val])"
   ]
  },
  {
   "cell_type": "code",
   "execution_count": null,
   "id": "d1b7957b",
   "metadata": {},
   "outputs": [],
   "source": [
    "df.head()"
   ]
  },
  {
   "cell_type": "markdown",
   "id": "e6d85ee5",
   "metadata": {},
   "source": [
    "# Splitting Dataset into Training and testing Set"
   ]
  },
  {
   "cell_type": "code",
   "execution_count": null,
   "id": "47764add",
   "metadata": {},
   "outputs": [],
   "source": [
    "X = df.drop('target', axis = 1)\n",
    "X"
   ]
  },
  {
   "cell_type": "code",
   "execution_count": null,
   "id": "e247b340",
   "metadata": {},
   "outputs": [],
   "source": [
    "y = df['target']\n",
    "y"
   ]
  },
  {
   "cell_type": "code",
   "execution_count": null,
   "id": "ca2ee7e8",
   "metadata": {},
   "outputs": [],
   "source": [
    "from sklearn.model_selection import train_test_split"
   ]
  },
  {
   "cell_type": "code",
   "execution_count": null,
   "id": "2a1ab0ed",
   "metadata": {},
   "outputs": [],
   "source": [
    "X_train,X_test,y_train,y_test = train_test_split(X,y,test_size = 0.2,random_state=42)"
   ]
  },
  {
   "cell_type": "code",
   "execution_count": null,
   "id": "c7064a59",
   "metadata": {},
   "outputs": [],
   "source": [
    "y_test"
   ]
  },
  {
   "cell_type": "markdown",
   "id": "8dc0b663",
   "metadata": {},
   "source": [
    "# A. Logisitic Regression"
   ]
  },
  {
   "cell_type": "code",
   "execution_count": null,
   "id": "898f8548",
   "metadata": {},
   "outputs": [],
   "source": [
    "df.head()"
   ]
  },
  {
   "cell_type": "code",
   "execution_count": null,
   "id": "5e4433c7",
   "metadata": {},
   "outputs": [],
   "source": [
    "from sklearn.linear_model import LogisticRegression"
   ]
  },
  {
   "cell_type": "code",
   "execution_count": null,
   "id": "3a439cff",
   "metadata": {},
   "outputs": [],
   "source": [
    "l = LogisticRegression()\n",
    "l.fit(X_train,y_train)"
   ]
  },
  {
   "cell_type": "code",
   "execution_count": null,
   "id": "6cc8ac53",
   "metadata": {},
   "outputs": [],
   "source": [
    "y_pred1= l.predict(X_test)"
   ]
  },
  {
   "cell_type": "code",
   "execution_count": null,
   "id": "2e5c525b",
   "metadata": {},
   "outputs": [],
   "source": [
    "from sklearn.metrics import accuracy_score"
   ]
  },
  {
   "cell_type": "code",
   "execution_count": null,
   "id": "7710b59f",
   "metadata": {},
   "outputs": [],
   "source": [
    "accuracy_score(y_test,y_pred1)"
   ]
  },
  {
   "cell_type": "markdown",
   "id": "5f4c8a14",
   "metadata": {},
   "source": [
    "# B. SVM"
   ]
  },
  {
   "cell_type": "code",
   "execution_count": null,
   "id": "4f799d2d",
   "metadata": {},
   "outputs": [],
   "source": [
    "from sklearn import svm"
   ]
  },
  {
   "cell_type": "code",
   "execution_count": null,
   "id": "fc62db7a",
   "metadata": {},
   "outputs": [],
   "source": [
    "svm = svm.SVC()"
   ]
  },
  {
   "cell_type": "code",
   "execution_count": null,
   "id": "0b9651ee",
   "metadata": {},
   "outputs": [],
   "source": [
    "svm.fit(X_train,y_train)"
   ]
  },
  {
   "cell_type": "code",
   "execution_count": null,
   "id": "88b38da0",
   "metadata": {},
   "outputs": [],
   "source": [
    "y_pred2 = svm.predict(X_test)"
   ]
  },
  {
   "cell_type": "code",
   "execution_count": null,
   "id": "8fb03117",
   "metadata": {},
   "outputs": [],
   "source": [
    "accuracy_score(y_test,y_pred2)"
   ]
  },
  {
   "cell_type": "markdown",
   "id": "a40cc993",
   "metadata": {},
   "source": [
    "# C.KNeighbors Classifier"
   ]
  },
  {
   "cell_type": "code",
   "execution_count": null,
   "id": "d62b2d08",
   "metadata": {},
   "outputs": [],
   "source": [
    "from sklearn.neighbors import KNeighborsClassifier"
   ]
  },
  {
   "cell_type": "code",
   "execution_count": null,
   "id": "582fdb78",
   "metadata": {},
   "outputs": [],
   "source": [
    "knn = KNeighborsClassifier()"
   ]
  },
  {
   "cell_type": "code",
   "execution_count": null,
   "id": "969e5dfb",
   "metadata": {},
   "outputs": [],
   "source": [
    "knn.fit(X_train,y_train)"
   ]
  },
  {
   "cell_type": "code",
   "execution_count": null,
   "id": "6c13cfaf",
   "metadata": {},
   "outputs": [],
   "source": [
    "y_pred3 = knn.predict(X_test)"
   ]
  },
  {
   "cell_type": "code",
   "execution_count": null,
   "id": "31de1796",
   "metadata": {},
   "outputs": [],
   "source": [
    "accuracy_score(y_test,y_pred3)"
   ]
  },
  {
   "cell_type": "code",
   "execution_count": null,
   "id": "55961fe2",
   "metadata": {},
   "outputs": [],
   "source": [
    "score = []\n",
    "\n",
    "for k in range (1,40):\n",
    "    knn =KNeighborsClassifier(n_neighbors=k)\n",
    "    knn.fit(X_train,y_train)\n",
    "    y_pred = knn.predict(X_test)\n",
    "    score.append(accuracy_score(y_test,y_pred))"
   ]
  },
  {
   "cell_type": "code",
   "execution_count": null,
   "id": "8dd5d28f",
   "metadata": {},
   "outputs": [],
   "source": [
    "score"
   ]
  },
  {
   "cell_type": "markdown",
   "id": "973c455f",
   "metadata": {},
   "source": [
    "# Non - Linear ML Algorithms"
   ]
  },
  {
   "cell_type": "code",
   "execution_count": null,
   "id": "b43f9416",
   "metadata": {},
   "outputs": [],
   "source": [
    "df = pd.read_csv(\"heart.csv\")\n",
    "df.head()"
   ]
  },
  {
   "cell_type": "code",
   "execution_count": null,
   "id": "4c4fa9de",
   "metadata": {},
   "outputs": [],
   "source": [
    "df = df.drop_duplicates()"
   ]
  },
  {
   "cell_type": "code",
   "execution_count": null,
   "id": "10469858",
   "metadata": {},
   "outputs": [],
   "source": [
    "df.shape"
   ]
  },
  {
   "cell_type": "code",
   "execution_count": null,
   "id": "7ae5b906",
   "metadata": {},
   "outputs": [],
   "source": [
    "X= df.drop('target',axis = 1)\n",
    "y = df['target']"
   ]
  },
  {
   "cell_type": "code",
   "execution_count": null,
   "id": "3496a62b",
   "metadata": {},
   "outputs": [],
   "source": [
    "X_train,X_test,y_train,y_test = train_test_split(X,y,test_size = 0.2,random_state=42)"
   ]
  },
  {
   "cell_type": "markdown",
   "id": "1c75c26d",
   "metadata": {},
   "source": [
    "# A.Decision Tree Classifier"
   ]
  },
  {
   "cell_type": "code",
   "execution_count": null,
   "id": "c2407f73",
   "metadata": {},
   "outputs": [],
   "source": [
    "from sklearn.tree import DecisionTreeClassifier"
   ]
  },
  {
   "cell_type": "code",
   "execution_count": null,
   "id": "217608b7",
   "metadata": {},
   "outputs": [],
   "source": [
    "dtc = DecisionTreeClassifier()\n",
    "dtc.fit(X_train,y_train)"
   ]
  },
  {
   "cell_type": "code",
   "execution_count": null,
   "id": "358df096",
   "metadata": {},
   "outputs": [],
   "source": [
    "y_pred4 = dtc.predict(X_test)"
   ]
  },
  {
   "cell_type": "code",
   "execution_count": null,
   "id": "4c804ceb",
   "metadata": {},
   "outputs": [],
   "source": [
    "accuracy_score(y_test,y_pred4)"
   ]
  },
  {
   "cell_type": "markdown",
   "id": "977e8bce",
   "metadata": {},
   "source": [
    "# B. Random Forest Classifier"
   ]
  },
  {
   "cell_type": "code",
   "execution_count": null,
   "id": "72e4f6d8",
   "metadata": {},
   "outputs": [],
   "source": [
    "from sklearn.ensemble import RandomForestClassifier"
   ]
  },
  {
   "cell_type": "code",
   "execution_count": null,
   "id": "61141b7a",
   "metadata": {},
   "outputs": [],
   "source": [
    "rf = RandomForestClassifier()\n",
    "rf.fit(X_train,y_train)"
   ]
  },
  {
   "cell_type": "code",
   "execution_count": null,
   "id": "ba44df1a",
   "metadata": {},
   "outputs": [],
   "source": [
    "y_pred5 = rf.predict(X_test)"
   ]
  },
  {
   "cell_type": "code",
   "execution_count": null,
   "id": "98a730ac",
   "metadata": {},
   "outputs": [],
   "source": [
    "accuracy_score(y_test,y_pred5)"
   ]
  },
  {
   "cell_type": "markdown",
   "id": "84ebd23d",
   "metadata": {},
   "source": [
    "# C. Gradient Boosting Classifier"
   ]
  },
  {
   "cell_type": "code",
   "execution_count": null,
   "id": "cd7bf59e",
   "metadata": {},
   "outputs": [],
   "source": [
    "from sklearn.ensemble import GradientBoostingClassifier"
   ]
  },
  {
   "cell_type": "code",
   "execution_count": null,
   "id": "43692df0",
   "metadata": {},
   "outputs": [],
   "source": [
    "gb = GradientBoostingClassifier()\n",
    "gb.fit(X_train,y_train)"
   ]
  },
  {
   "cell_type": "code",
   "execution_count": null,
   "id": "8e0704be",
   "metadata": {},
   "outputs": [],
   "source": [
    "y_pred6 = gb.predict(X_test)"
   ]
  },
  {
   "cell_type": "code",
   "execution_count": null,
   "id": "ff210103",
   "metadata": {},
   "outputs": [],
   "source": [
    "accuracy_score(y_test,y_pred6)"
   ]
  },
  {
   "cell_type": "code",
   "execution_count": null,
   "id": "f723fb76",
   "metadata": {},
   "outputs": [],
   "source": [
    "final_data = pd.DataFrame({'Models': ['LR','SVM','KNN','DT','RF','GBC'],\n",
    "                          'ACC': [accuracy_score(y_test,y_pred1),\n",
    "                                  accuracy_score(y_test,y_pred2),\n",
    "                                  accuracy_score(y_test,y_pred3),\n",
    "                                  accuracy_score(y_test,y_pred4),\n",
    "                                  accuracy_score(y_test,y_pred5),\n",
    "                                  accuracy_score(y_test,y_pred6)]})"
   ]
  },
  {
   "cell_type": "code",
   "execution_count": null,
   "id": "1d0fccf7",
   "metadata": {},
   "outputs": [],
   "source": [
    "final_data"
   ]
  },
  {
   "cell_type": "code",
   "execution_count": null,
   "id": "f45e8235",
   "metadata": {},
   "outputs": [],
   "source": [
    "sns.barplot(final_data['Models'], final_data['ACC'])\n",
    "plt.title(\"Accuracy Score by Models\")\n",
    "plt.show()"
   ]
  },
  {
   "cell_type": "code",
   "execution_count": null,
   "id": "5e69086b",
   "metadata": {},
   "outputs": [],
   "source": [
    "X= df.drop('target',axis = 1)\n",
    "y = df['target']"
   ]
  },
  {
   "cell_type": "code",
   "execution_count": null,
   "id": "b50344d3",
   "metadata": {},
   "outputs": [],
   "source": [
    "X.shape"
   ]
  },
  {
   "cell_type": "code",
   "execution_count": null,
   "id": "a99def9b",
   "metadata": {},
   "outputs": [],
   "source": [
    "from sklearn.ensemble import RandomForestClassifier"
   ]
  },
  {
   "cell_type": "code",
   "execution_count": null,
   "id": "8a914dc7",
   "metadata": {},
   "outputs": [],
   "source": [
    "rf = RandomForestClassifier()\n",
    "rf.fit(X,y)"
   ]
  },
  {
   "cell_type": "markdown",
   "id": "c9704673",
   "metadata": {},
   "source": [
    "# Predicition On new data"
   ]
  },
  {
   "cell_type": "code",
   "execution_count": null,
   "id": "2bc64262",
   "metadata": {},
   "outputs": [],
   "source": [
    "new_data = pd.DataFrame({\n",
    "    'age': 52,\n",
    "    'sex':1,\n",
    "    'cp': 0,\n",
    "    'trestbps':135,\n",
    "    'chol': 235,\n",
    "    'fbs': 0,\n",
    "    'restecg':1,\n",
    "    'thalach':168,\n",
    "    'exang':0,\n",
    "    'oldpeak':1.0,\n",
    "    'slope':2,\n",
    "    'ca':2,\n",
    "    'thal':3 ,},\n",
    "    index=[0])\n",
    "    \n",
    "    \n"
   ]
  },
  {
   "cell_type": "code",
   "execution_count": null,
   "id": "d968fb49",
   "metadata": {},
   "outputs": [],
   "source": [
    "new_data"
   ]
  },
  {
   "cell_type": "code",
   "execution_count": null,
   "id": "429bc6d2",
   "metadata": {},
   "outputs": [],
   "source": [
    "p = rf.predict(new_data)\n",
    "if p[0]==0 :\n",
    "    print(\"No Disease\")\n",
    "else :\n",
    "    print(\"Disease\")"
   ]
  },
  {
   "cell_type": "markdown",
   "id": "1e7d450a",
   "metadata": {},
   "source": [
    "# Save model using joblib"
   ]
  },
  {
   "cell_type": "code",
   "execution_count": null,
   "id": "e720f1d8",
   "metadata": {},
   "outputs": [],
   "source": [
    "import joblib"
   ]
  },
  {
   "cell_type": "code",
   "execution_count": null,
   "id": "e771fdb5",
   "metadata": {},
   "outputs": [],
   "source": [
    "joblib.dump(rf,'md_joblib_Heart')"
   ]
  },
  {
   "cell_type": "code",
   "execution_count": null,
   "id": "3914b221",
   "metadata": {},
   "outputs": [],
   "source": [
    "model = joblib.load('md_joblib_Heart')"
   ]
  },
  {
   "cell_type": "code",
   "execution_count": null,
   "id": "53b16dd2",
   "metadata": {},
   "outputs": [],
   "source": [
    "model.predict(new_data)"
   ]
  }
 ],
 "metadata": {
  "kernelspec": {
   "display_name": "Python 3 (ipykernel)",
   "language": "python",
   "name": "python3"
  },
  "language_info": {
   "codemirror_mode": {
    "name": "ipython",
    "version": 3
   },
   "file_extension": ".py",
   "mimetype": "text/x-python",
   "name": "python",
   "nbconvert_exporter": "python",
   "pygments_lexer": "ipython3",
   "version": "3.9.12"
  }
 },
 "nbformat": 4,
 "nbformat_minor": 5
}
